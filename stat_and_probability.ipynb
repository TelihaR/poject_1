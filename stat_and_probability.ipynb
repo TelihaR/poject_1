{
 "cells": [
  {
   "cell_type": "code",
   "execution_count": 22,
   "metadata": {},
   "outputs": [],
   "source": [
    "def mean_value(data):\n",
    "    return sum(data)/len(data)\n",
    "\n",
    "def standard_deviation_sample(data):\n",
    "    n=len(data)\n",
    "    return sum((x-mean_value(data))**2 for x in data)/(n-1)\n",
    "\n",
    "def standard_deviation_population(data):\n",
    "    n=len(data)\n",
    "    return sum((x-mean_value(data))**2 for x in data)/n\n",
    "  \n",
    "def z_score(x, data= None, mean=None, std=None):\n",
    "    if mean != None and std != None:\n",
    "      return(x-mean)/std\n",
    "    elif data != None:\n",
    "      return(x-mean_value(data))/standard_deviation_population(data)\n",
    "    else:\n",
    "      print('Error : data or mean and std should be provided')"
   ]
  },
  {
   "cell_type": "code",
   "execution_count": 31,
   "metadata": {},
   "outputs": [
    {
     "ename": "TypeError",
     "evalue": "can only concatenate list (not \"int\") to list",
     "output_type": "error",
     "traceback": [
      "\u001b[1;31m---------------------------------------------------------------------------\u001b[0m",
      "\u001b[1;31mTypeError\u001b[0m                                 Traceback (most recent call last)",
      "Cell \u001b[1;32mIn[31], line 2\u001b[0m\n\u001b[0;32m      1\u001b[0m num\u001b[38;5;241m=\u001b[39m[\u001b[38;5;241m8\u001b[39m,\u001b[38;5;241m11\u001b[39m,\u001b[38;5;241m17\u001b[39m,\u001b[38;5;241m7\u001b[39m,\u001b[38;5;241m19\u001b[39m]\n\u001b[1;32m----> 2\u001b[0m num\u001b[38;5;241m+\u001b[39m\u001b[38;5;241m5\u001b[39m\n",
      "\u001b[1;31mTypeError\u001b[0m: can only concatenate list (not \"int\") to list"
     ]
    }
   ],
   "source": [
    "num=[8,11,17,7,19]\n",
    "num+5\n"
   ]
  },
  {
   "cell_type": "code",
   "execution_count": 23,
   "metadata": {},
   "outputs": [
    {
     "name": "stdout",
     "output_type": "stream",
     "text": [
      "19.2\n",
      "24.0\n",
      "0.052083333333333336\n"
     ]
    }
   ],
   "source": [
    "nam=[8, 4, 14, 16,8]\n",
    "print(standard_deviation_population(nam))\n",
    "print(standard_deviation_sample(nam))\n",
    "print(z_score(11, data=nam))"
   ]
  },
  {
   "cell_type": "code",
   "execution_count": 24,
   "metadata": {},
   "outputs": [
    {
     "data": {
      "text/plain": [
       "-1.0"
      ]
     },
     "execution_count": 24,
     "metadata": {},
     "output_type": "execute_result"
    }
   ],
   "source": [
    "z_score(mean=74, x=70, std= 4)"
   ]
  },
  {
   "cell_type": "code",
   "execution_count": 11,
   "metadata": {},
   "outputs": [
    {
     "data": {
      "text/plain": [
       "-1.1428571428571428"
      ]
     },
     "execution_count": 11,
     "metadata": {},
     "output_type": "execute_result"
    }
   ],
   "source": [
    "z_score(x=65,mean=69, std=3.5)"
   ]
  },
  {
   "cell_type": "code",
   "execution_count": null,
   "metadata": {},
   "outputs": [],
   "source": []
  }
 ],
 "metadata": {
  "kernelspec": {
   "display_name": "base",
   "language": "python",
   "name": "python3"
  },
  "language_info": {
   "codemirror_mode": {
    "name": "ipython",
    "version": 3
   },
   "file_extension": ".py",
   "mimetype": "text/x-python",
   "name": "python",
   "nbconvert_exporter": "python",
   "pygments_lexer": "ipython3",
   "version": "3.11.5"
  }
 },
 "nbformat": 4,
 "nbformat_minor": 2
}
